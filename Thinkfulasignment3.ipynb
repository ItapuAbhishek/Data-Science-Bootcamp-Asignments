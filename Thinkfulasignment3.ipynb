{
  "nbformat": 4,
  "nbformat_minor": 0,
  "metadata": {
    "colab": {
      "name": "Thinkfulasignment3",
      "provenance": []
    },
    "kernelspec": {
      "name": "python3",
      "display_name": "Python 3"
    }
  },
  "cells": [
    {
      "cell_type": "markdown",
      "metadata": {
        "id": "EgZHDp2pPVyP"
      },
      "source": [
        "In this assignment, you'll continue working with the Students Performance in Exams dataset from Kaggle. You can access the data from the Thinkful database.\n",
        "\n",
        "Here are the credentials you can use to connect to the database:"
      ]
    },
    {
      "cell_type": "code",
      "metadata": {
        "id": "r16SIqquOyo-"
      },
      "source": [
        "import pandas as pd\n",
        "import numpy as np\n",
        "from sqlalchemy import create_engine\n",
        "from matplotlib import pyplot as plt\n",
        "import seaborn as sns"
      ],
      "execution_count": 1,
      "outputs": []
    },
    {
      "cell_type": "code",
      "metadata": {
        "id": "m0KYQoMRO2EB"
      },
      "source": [
        "postgres_user = 'dsbc_student'\n",
        "postgres_pw = '7*.8G9QH21'\n",
        "postgres_host = '142.93.121.174'\n",
        "postgres_port = '5432'\n",
        "postgres_db = 'studentsperformance'\n",
        "\n",
        "engine = create_engine('postgresql://{}:{}@{}:{}/{}'.format(\n",
        "    postgres_user, postgres_pw, postgres_host, postgres_port, postgres_db))\n",
        "\n",
        "education_df=pd.read_sql_query('SELECT * FROM studentsperformance',con=engine)\n",
        "\n",
        "engine.dispose()"
      ],
      "execution_count": 3,
      "outputs": []
    },
    {
      "cell_type": "markdown",
      "metadata": {
        "id": "N9ojBhd0PblR"
      },
      "source": [
        "To complete this assignment, submit a link to a Jupyter Notebook containing your solutions to the following tasks:\n",
        "\n",
        "Are the exam score variables normally distributed? If not, apply a Box-Cox transformation. Does anything change?"
      ]
    },
    {
      "cell_type": "code",
      "metadata": {
        "colab": {
          "base_uri": "https://localhost:8080/",
          "height": 204
        },
        "id": "8nj5tcxmPKNs",
        "outputId": "6530deb7-394a-45b7-8db2-3452e2a2ed5e"
      },
      "source": [
        "education_df.head()"
      ],
      "execution_count": 4,
      "outputs": [
        {
          "output_type": "execute_result",
          "data": {
            "text/html": [
              "<div>\n",
              "<style scoped>\n",
              "    .dataframe tbody tr th:only-of-type {\n",
              "        vertical-align: middle;\n",
              "    }\n",
              "\n",
              "    .dataframe tbody tr th {\n",
              "        vertical-align: top;\n",
              "    }\n",
              "\n",
              "    .dataframe thead th {\n",
              "        text-align: right;\n",
              "    }\n",
              "</style>\n",
              "<table border=\"1\" class=\"dataframe\">\n",
              "  <thead>\n",
              "    <tr style=\"text-align: right;\">\n",
              "      <th></th>\n",
              "      <th>gender</th>\n",
              "      <th>race/ethnicity</th>\n",
              "      <th>parental level of education</th>\n",
              "      <th>lunch</th>\n",
              "      <th>test preparation course</th>\n",
              "      <th>math score</th>\n",
              "      <th>reading score</th>\n",
              "      <th>writing score</th>\n",
              "    </tr>\n",
              "  </thead>\n",
              "  <tbody>\n",
              "    <tr>\n",
              "      <th>0</th>\n",
              "      <td>female</td>\n",
              "      <td>group B</td>\n",
              "      <td>bachelor's degree</td>\n",
              "      <td>standard</td>\n",
              "      <td>none</td>\n",
              "      <td>72</td>\n",
              "      <td>72</td>\n",
              "      <td>74</td>\n",
              "    </tr>\n",
              "    <tr>\n",
              "      <th>1</th>\n",
              "      <td>female</td>\n",
              "      <td>group C</td>\n",
              "      <td>some college</td>\n",
              "      <td>standard</td>\n",
              "      <td>completed</td>\n",
              "      <td>69</td>\n",
              "      <td>90</td>\n",
              "      <td>88</td>\n",
              "    </tr>\n",
              "    <tr>\n",
              "      <th>2</th>\n",
              "      <td>female</td>\n",
              "      <td>group B</td>\n",
              "      <td>master's degree</td>\n",
              "      <td>standard</td>\n",
              "      <td>none</td>\n",
              "      <td>90</td>\n",
              "      <td>95</td>\n",
              "      <td>93</td>\n",
              "    </tr>\n",
              "    <tr>\n",
              "      <th>3</th>\n",
              "      <td>male</td>\n",
              "      <td>group A</td>\n",
              "      <td>associate's degree</td>\n",
              "      <td>free/reduced</td>\n",
              "      <td>none</td>\n",
              "      <td>47</td>\n",
              "      <td>57</td>\n",
              "      <td>44</td>\n",
              "    </tr>\n",
              "    <tr>\n",
              "      <th>4</th>\n",
              "      <td>male</td>\n",
              "      <td>group C</td>\n",
              "      <td>some college</td>\n",
              "      <td>standard</td>\n",
              "      <td>none</td>\n",
              "      <td>76</td>\n",
              "      <td>78</td>\n",
              "      <td>75</td>\n",
              "    </tr>\n",
              "  </tbody>\n",
              "</table>\n",
              "</div>"
            ],
            "text/plain": [
              "   gender race/ethnicity  ... reading score writing score\n",
              "0  female        group B  ...            72            74\n",
              "1  female        group C  ...            90            88\n",
              "2  female        group B  ...            95            93\n",
              "3    male        group A  ...            57            44\n",
              "4    male        group C  ...            78            75\n",
              "\n",
              "[5 rows x 8 columns]"
            ]
          },
          "metadata": {
            "tags": []
          },
          "execution_count": 4
        }
      ]
    },
    {
      "cell_type": "code",
      "metadata": {
        "colab": {
          "base_uri": "https://localhost:8080/"
        },
        "id": "x9g-e2CYPMLZ",
        "outputId": "a129206b-ef96-4205-8540-15097c79c7ac"
      },
      "source": [
        "education_df.info()"
      ],
      "execution_count": 5,
      "outputs": [
        {
          "output_type": "stream",
          "text": [
            "<class 'pandas.core.frame.DataFrame'>\n",
            "RangeIndex: 1000 entries, 0 to 999\n",
            "Data columns (total 8 columns):\n",
            " #   Column                       Non-Null Count  Dtype \n",
            "---  ------                       --------------  ----- \n",
            " 0   gender                       1000 non-null   object\n",
            " 1   race/ethnicity               1000 non-null   object\n",
            " 2   parental level of education  1000 non-null   object\n",
            " 3   lunch                        1000 non-null   object\n",
            " 4   test preparation course      1000 non-null   object\n",
            " 5   math score                   1000 non-null   int64 \n",
            " 6   reading score                1000 non-null   int64 \n",
            " 7   writing score                1000 non-null   int64 \n",
            "dtypes: int64(3), object(5)\n",
            "memory usage: 62.6+ KB\n"
          ],
          "name": "stdout"
        }
      ]
    },
    {
      "cell_type": "code",
      "metadata": {
        "colab": {
          "base_uri": "https://localhost:8080/",
          "height": 204
        },
        "id": "N8IkVcYsPOMv",
        "outputId": "25c41758-615e-488a-f7d8-ae5dbfa1867c"
      },
      "source": [
        "plt.figure(figsize=(15,5))\n",
        "plt.subplot(2,3,1)\n",
        "plt.hist(education_df['math score'])\n",
        "plt.title('math score before transforming')\n",
        "\n",
        "plt.subplot(2,3,2)\n",
        "plt.hist(education_df['reading score'])\n",
        "plt.title('reading score before transforming')\n",
        "\n",
        "plt.subplot(2,3,3)\n",
        "plt.hist(education_df['writing score'])\n",
        "plt.title('writing score before transforming')\n",
        "\n"
      ],
      "execution_count": 7,
      "outputs": [
        {
          "output_type": "execute_result",
          "data": {
            "text/plain": [
              "Text(0.5, 1.0, 'writing score before transforming')"
            ]
          },
          "metadata": {
            "tags": []
          },
          "execution_count": 7
        },
        {
          "output_type": "display_data",
          "data": {
            "image/png": "[encoded data removed]",
            "text/plain": [
              "<Figure size 1080x360 with 3 Axes>"
            ]
          },
          "metadata": {
            "tags": [],
            "needs_background": "light"
          }
        }
      ]
    },
    {
      "cell_type": "code",
      "metadata": {
        "colab": {
          "base_uri": "https://localhost:8080/",
          "height": 204
        },
        "id": "zvTpvx88Q7Vo",
        "outputId": "9db2b576-0f3a-421b-cc4c-e669f416a284"
      },
      "source": [
        "from scipy.stats import boxcox\n",
        "\n",
        "\n",
        "\n",
        "boxcox_mathscore,_ = boxcox(education_df[education_df['math score']>0]['math score'])\n",
        "boxcox_readingscore,_ = boxcox(education_df['reading score'])\n",
        "boxcox_writingscore,_= boxcox(education_df['writing score'])\n",
        "\n",
        "plt.figure(figsize=(15,5))\n",
        "plt.subplot(2,3,1)\n",
        "plt.hist(boxcox_mathscore )\n",
        "plt.title('boxcox math score')\n",
        "\n",
        "plt.subplot(2,3,2)\n",
        "plt.hist(boxcox_readingscore)\n",
        "plt.title('boxcox reading score')\n",
        "\n",
        "plt.subplot(2,3,3)\n",
        "plt.hist(boxcox_writingscore)\n",
        "plt.title('boxcox math score')"
      ],
      "execution_count": 14,
      "outputs": [
        {
          "output_type": "execute_result",
          "data": {
            "text/plain": [
              "Text(0.5, 1.0, 'boxcox math score')"
            ]
          },
          "metadata": {
            "tags": []
          },
          "execution_count": 14
        },
        {
          "output_type": "display_data",
          "data": {
            "image/png": "[encoded data removed]",
            "text/plain": [
              "<Figure size 1080x360 with 3 Axes>"
            ]
          },
          "metadata": {
            "tags": [],
            "needs_background": "light"
          }
        }
      ]
    },
    {
      "cell_type": "code",
      "metadata": {
        "colab": {
          "base_uri": "https://localhost:8080/"
        },
        "id": "FjSYDO2xVAjB",
        "outputId": "75d74061-3616-429b-fa7d-9723424e9410"
      },
      "source": [
        "from scipy.stats import jarque_bera\n",
        "from scipy.stats import normaltest\n",
        "\n",
        "jarque_bera_test_stats=jarque_bera(education_df['math score'])\n",
        "normaltest_test_stats=normaltest(education_df['math score'])\n",
        "\n",
        "print('jarque_bera statistic value for math score is {} and p value is {}'.format(jarque_bera_test_stats[0],jarque_bera_test_stats[1]))\n",
        "print('jarque_bera statistic value for math score is {} and p value is {}'.format(normaltest_test_stats[0],normaltest_test_stats[1]))\n",
        "\n",
        "\n",
        "jarque_bera_test_stats=jarque_bera(education_df['reading score'])\n",
        "normaltest_test_stats=normaltest(education_df['reading score'])\n",
        "\n",
        "print('jarque_bera statistic value for reading score is {} and p value is {}'.format(jarque_bera_test_stats[0],jarque_bera_test_stats[1]))\n",
        "print('jarque_bera statistic value for reading score is {} and p value is {}'.format(normaltest_test_stats[0],normaltest_test_stats[1]))\n",
        "\n",
        "jarque_bera_test_stats=jarque_bera(education_df['writing score'])\n",
        "normaltest_test_stats=normaltest(education_df['writing score'])\n",
        "\n",
        "print('jarque_bera statistic value for writing score is {} and p value is {}'.format(jarque_bera_test_stats[0],jarque_bera_test_stats[1]))\n",
        "print('jarque_bera statistic value for writing score is {} and p value is {}'.format(normaltest_test_stats[0],normaltest_test_stats[1]))"
      ],
      "execution_count": 17,
      "outputs": [
        {
          "output_type": "stream",
          "text": [
            "jarque_bera statistic value for math score is 15.912256686712709 and p value is 0.0003505075386818213\n",
            "jarque_bera statistic value for math score is 15.408960513931822 and p value is 0.00045080293869937836\n",
            "jarque_bera statistic value for reading score is 11.383300575987892 and p value is 0.0033740202672214448\n",
            "jarque_bera statistic value for reading score is 11.11741279628622 and p value is 0.003853758403576582\n",
            "jarque_bera statistic value for writing score is 13.98509448257235 and p value is 0.0009187033894586527\n",
            "jarque_bera statistic value for writing score is 13.606450837263859 and p value is 0.0011101885439899974\n"
          ],
          "name": "stdout"
        }
      ]
    },
    {
      "cell_type": "code",
      "metadata": {
        "colab": {
          "base_uri": "https://localhost:8080/"
        },
        "id": "8cvH-tGCWkl4",
        "outputId": "5c3fbfdf-adb3-49c9-e97b-a59b78bfcd2f"
      },
      "source": [
        "from scipy.stats import jarque_bera\n",
        "from scipy.stats import normaltest\n",
        "\n",
        "jarque_bera_test_stats=jarque_bera(boxcox_mathscore)\n",
        "normaltest_test_stats=normaltest(boxcox_mathscore)\n",
        "\n",
        "print('jarque_bera statistic value for math score is {} and p value is {}'.format(jarque_bera_test_stats[0],jarque_bera_test_stats[1]))\n",
        "print('jarque_bera statistic value for math score is {} and p value is {}'.format(normaltest_test_stats[0],normaltest_test_stats[1]))\n",
        "\n",
        "\n",
        "jarque_bera_test_stats=jarque_bera(boxcox_readingscore)\n",
        "normaltest_test_stats=normaltest(boxcox_readingscore)\n",
        "\n",
        "print('jarque_bera statistic value for reading score is {} and p value is {}'.format(jarque_bera_test_stats[0],jarque_bera_test_stats[1]))\n",
        "print('jarque_bera statistic value for reading score is {} and p value is {}'.format(normaltest_test_stats[0],normaltest_test_stats[1]))\n",
        "\n",
        "jarque_bera_test_stats=jarque_bera(boxcox_readingscore)\n",
        "normaltest_test_stats=normaltest(boxcox_readingscore)\n",
        "\n",
        "print('jarque_bera statistic value for writing score is {} and p value is {}'.format(jarque_bera_test_stats[0],jarque_bera_test_stats[1]))\n",
        "print('jarque_bera statistic value for writing score is {} and p value is {}'.format(normaltest_test_stats[0],normaltest_test_stats[1]))"
      ],
      "execution_count": 19,
      "outputs": [
        {
          "output_type": "stream",
          "text": [
            "jarque_bera statistic value for math score is 1.7200982636836308 and p value is 0.42314129209599327\n",
            "jarque_bera statistic value for math score is 1.8323075851586939 and p value is 0.4000547794685686\n",
            "jarque_bera statistic value for reading score is 4.119778573559666 and p value is 0.127468081515408\n",
            "jarque_bera statistic value for reading score is 5.282274606965809 and p value is 0.07128015626992971\n",
            "jarque_bera statistic value for writing score is 4.119778573559666 and p value is 0.127468081515408\n",
            "jarque_bera statistic value for writing score is 5.282274606965809 and p value is 0.07128015626992971\n"
          ],
          "name": "stdout"
        }
      ]
    },
    {
      "cell_type": "markdown",
      "metadata": {
        "id": "m9VZ1cHxXrZS"
      },
      "source": [
        "Say you want to use a single variable for the exam scores as your target. For this purpose, create a new variable by taking a weighted average of the exam scores. Check whether this new variable is normally distributed. If it's not normally distributed, apply a Box-Cox transformation and check whether or not the transformed variable is normally distributed."
      ]
    },
    {
      "cell_type": "code",
      "metadata": {
        "colab": {
          "base_uri": "https://localhost:8080/",
          "height": 353
        },
        "id": "OpUfexWxXsU2",
        "outputId": "20314893-48e9-488c-8438-879734b66249"
      },
      "source": [
        "plt.figure(figsize=(15,5))\n",
        "exam_score=(education_df['math score']+education_df['reading score']+education_df['writing score'])/3\n",
        "plt.subplot(1,2,1)\n",
        "plt.hist(exam_score)\n",
        "plt.title('exam score')\n",
        "\n",
        "plt.subplot(1,2,2)\n",
        "boxcox_examscore,_=boxcox(exam_score)\n",
        "plt.hist(boxcox_examscore)\n",
        "plt.title('boxcox_examscore')"
      ],
      "execution_count": 22,
      "outputs": [
        {
          "output_type": "execute_result",
          "data": {
            "text/plain": [
              "Text(0.5, 1.0, 'boxcox_examscore')"
            ]
          },
          "metadata": {
            "tags": []
          },
          "execution_count": 22
        },
        {
          "output_type": "display_data",
          "data": {
            "image/png": "[encoded data removed]",
            "text/plain": [
              "<Figure size 1080x360 with 2 Axes>"
            ]
          },
          "metadata": {
            "tags": [],
            "needs_background": "light"
          }
        }
      ]
    },
    {
      "cell_type": "code",
      "metadata": {
        "colab": {
          "base_uri": "https://localhost:8080/"
        },
        "id": "BxTBVWrgYg2H",
        "outputId": "c7b0da94-3c9d-4c6b-8898-cd29513c1760"
      },
      "source": [
        "jarque_bera_test_stats=jarque_bera(exam_score)\n",
        "normaltest_test_stats=normaltest(exam_score)\n",
        "\n",
        "print('The statistic for exam score is {} and p value is {}'.format(jarque_bera_test_stats[0],jarque_bera_test_stats[1]))\n",
        "print('The normaltest_stat statistic is {} and p value is {}'.format(normaltest_test_stats[0],normaltest_test_stats[1]))"
      ],
      "execution_count": 23,
      "outputs": [
        {
          "output_type": "stream",
          "text": [
            "The statistic for exam score is 15.453387913085168 and p value is 0.00044089934264401887\n",
            "The normaltest_stat statistic is 15.186721327231322 and p value is 0.0005037851534494478\n"
          ],
          "name": "stdout"
        }
      ]
    },
    {
      "cell_type": "markdown",
      "metadata": {
        "id": "eV2kx8frZbok"
      },
      "source": [
        "The variable is not normally distributed"
      ]
    },
    {
      "cell_type": "code",
      "metadata": {
        "colab": {
          "base_uri": "https://localhost:8080/"
        },
        "id": "WtoFjO5wZTLd",
        "outputId": "e97f8d14-01c7-4327-9e6b-9257e5f01fc9"
      },
      "source": [
        "jarque_bera_test_stats=jarque_bera(boxcox_examscore)\n",
        "normaltest_test_stats=normaltest(boxcox_examscore)\n",
        "\n",
        "print('The statistic for exam score is {} and p value is {}'.format(jarque_bera_test_stats[0],jarque_bera_test_stats[1]))\n",
        "print('The normaltest_stat statistic is {} and p value is {}'.format(normaltest_test_stats[0],normaltest_test_stats[1]))"
      ],
      "execution_count": 24,
      "outputs": [
        {
          "output_type": "stream",
          "text": [
            "The statistic for exam score is 2.4353989331279 and p value is 0.2959101356398447\n",
            "The normaltest_stat statistic is 2.779857602227616 and p value is 0.24909303914726724\n"
          ],
          "name": "stdout"
        }
      ]
    },
    {
      "cell_type": "markdown",
      "metadata": {
        "id": "Uw6Sn9MBZfHb"
      },
      "source": [
        "After we apply boxcox the new variable is normally distributed"
      ]
    }
  ]
}