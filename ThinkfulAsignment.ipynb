{
  "nbformat": 4,
  "nbformat_minor": 0,
  "metadata": {
    "colab": {
      "name": "ThinkfulAsignment.ipynb",
      "provenance": []
    },
    "kernelspec": {
      "name": "python3",
      "display_name": "Python 3"
    }
  },
  "cells": [
    {
      "cell_type": "markdown",
      "metadata": {
        "id": "Sr7CABJy3Zjn"
      },
      "source": [
        "In this assignment, you'll be working with the U.S. Education Dataset from Kaggle. The data gives detailed, state-level information on several facets of the state of education on an annual basis. To learn more about the data and the column descriptions, click the Kaggle link above.\n",
        "\n",
        "Access this data from the Thinkful database using the following credentials:\n",
        "\n",
        "postgres_user = 'dsbc_student'\n",
        "postgres_pw = '7*.8G9QH21'\n",
        "postgres_host = '142.93.121.174'\n",
        "postgres_port = '5432'\n",
        "postgres_db = 'useducation'\n",
        "\n",
        "\n",
        "\n",
        "To complete this assignment, submit a link to a Jupyter Notebook containing your solutions to the following tasks:\n"
      ]
    },
    {
      "cell_type": "code",
      "metadata": {
        "id": "wLfl7acvyUMh"
      },
      "source": [
        "import pandas as pd\n",
        "import numpy as np\n",
        "from sqlalchemy import create_engine\n"
      ],
      "execution_count": null,
      "outputs": []
    },
    {
      "cell_type": "code",
      "metadata": {
        "id": "R3HrkfU7yoA_"
      },
      "source": [
        "postgres_user = 'dsbc_student'\n",
        "postgres_pw = '7*.8G9QH21'\n",
        "postgres_host = '142.93.121.174'\n",
        "postgres_port = '5432'\n",
        "postgres_db = 'useducation'\n",
        "\n",
        "engine = create_engine('postgresql://{}:{}@{}:{}/{}'.format(\n",
        "    postgres_user, postgres_pw, postgres_host, postgres_port, postgres_db))\n",
        "\n",
        "engine.dispose()\n",
        "\n",
        "\n",
        "data=pd.read_sql('select * from useducation',con=engine)"
      ],
      "execution_count": null,
      "outputs": []
    },
    {
      "cell_type": "markdown",
      "metadata": {
        "id": "tnrpTTPn3fcw"
      },
      "source": [
        "Determine all the variable types and find the fraction of the missing values for each variable."
      ]
    },
    {
      "cell_type": "code",
      "metadata": {
        "colab": {
          "base_uri": "https://localhost:8080/",
          "height": 224
        },
        "id": "_huH9Yqm0U2c",
        "outputId": "ebe98d47-666e-4933-c5f4-750c3ee9317e"
      },
      "source": [
        "data.head()"
      ],
      "execution_count": null,
      "outputs": [
        {
          "output_type": "execute_result",
          "data": {
            "text/html": [
              "<div>\n",
              "<style scoped>\n",
              "    .dataframe tbody tr th:only-of-type {\n",
              "        vertical-align: middle;\n",
              "    }\n",
              "\n",
              "    .dataframe tbody tr th {\n",
              "        vertical-align: top;\n",
              "    }\n",
              "\n",
              "    .dataframe thead th {\n",
              "        text-align: right;\n",
              "    }\n",
              "</style>\n",
              "<table border=\"1\" class=\"dataframe\">\n",
              "  <thead>\n",
              "    <tr style=\"text-align: right;\">\n",
              "      <th></th>\n",
              "      <th>PRIMARY_KEY</th>\n",
              "      <th>STATE</th>\n",
              "      <th>YEAR</th>\n",
              "      <th>ENROLL</th>\n",
              "      <th>TOTAL_REVENUE</th>\n",
              "      <th>FEDERAL_REVENUE</th>\n",
              "      <th>STATE_REVENUE</th>\n",
              "      <th>LOCAL_REVENUE</th>\n",
              "      <th>TOTAL_EXPENDITURE</th>\n",
              "      <th>INSTRUCTION_EXPENDITURE</th>\n",
              "      <th>SUPPORT_SERVICES_EXPENDITURE</th>\n",
              "      <th>OTHER_EXPENDITURE</th>\n",
              "      <th>CAPITAL_OUTLAY_EXPENDITURE</th>\n",
              "      <th>GRADES_PK_G</th>\n",
              "      <th>GRADES_KG_G</th>\n",
              "      <th>GRADES_4_G</th>\n",
              "      <th>GRADES_8_G</th>\n",
              "      <th>GRADES_12_G</th>\n",
              "      <th>GRADES_1_8_G</th>\n",
              "      <th>GRADES_9_12_G</th>\n",
              "      <th>GRADES_ALL_G</th>\n",
              "      <th>AVG_MATH_4_SCORE</th>\n",
              "      <th>AVG_MATH_8_SCORE</th>\n",
              "      <th>AVG_READING_4_SCORE</th>\n",
              "      <th>AVG_READING_8_SCORE</th>\n",
              "    </tr>\n",
              "  </thead>\n",
              "  <tbody>\n",
              "    <tr>\n",
              "      <th>0</th>\n",
              "      <td>1992_ALABAMA</td>\n",
              "      <td>ALABAMA</td>\n",
              "      <td>1992</td>\n",
              "      <td>NaN</td>\n",
              "      <td>2678885.0</td>\n",
              "      <td>304177.0</td>\n",
              "      <td>1659028.0</td>\n",
              "      <td>715680.0</td>\n",
              "      <td>2653798.0</td>\n",
              "      <td>1481703.0</td>\n",
              "      <td>735036.0</td>\n",
              "      <td>NaN</td>\n",
              "      <td>174053.0</td>\n",
              "      <td>8224.0</td>\n",
              "      <td>55460.0</td>\n",
              "      <td>57948.0</td>\n",
              "      <td>58025.0</td>\n",
              "      <td>41167.0</td>\n",
              "      <td>471564.0</td>\n",
              "      <td>196386.0</td>\n",
              "      <td>676174.0</td>\n",
              "      <td>208.327876</td>\n",
              "      <td>252.187522</td>\n",
              "      <td>207.963517</td>\n",
              "      <td>NaN</td>\n",
              "    </tr>\n",
              "    <tr>\n",
              "      <th>1</th>\n",
              "      <td>1992_ALASKA</td>\n",
              "      <td>ALASKA</td>\n",
              "      <td>1992</td>\n",
              "      <td>NaN</td>\n",
              "      <td>1049591.0</td>\n",
              "      <td>106780.0</td>\n",
              "      <td>720711.0</td>\n",
              "      <td>222100.0</td>\n",
              "      <td>972488.0</td>\n",
              "      <td>498362.0</td>\n",
              "      <td>350902.0</td>\n",
              "      <td>NaN</td>\n",
              "      <td>37451.0</td>\n",
              "      <td>2371.0</td>\n",
              "      <td>10152.0</td>\n",
              "      <td>9748.0</td>\n",
              "      <td>8789.0</td>\n",
              "      <td>6714.0</td>\n",
              "      <td>79117.0</td>\n",
              "      <td>30847.0</td>\n",
              "      <td>112335.0</td>\n",
              "      <td>NaN</td>\n",
              "      <td>NaN</td>\n",
              "      <td>NaN</td>\n",
              "      <td>258.859712</td>\n",
              "    </tr>\n",
              "    <tr>\n",
              "      <th>2</th>\n",
              "      <td>1992_ARIZONA</td>\n",
              "      <td>ARIZONA</td>\n",
              "      <td>1992</td>\n",
              "      <td>NaN</td>\n",
              "      <td>3258079.0</td>\n",
              "      <td>297888.0</td>\n",
              "      <td>1369815.0</td>\n",
              "      <td>1590376.0</td>\n",
              "      <td>3401580.0</td>\n",
              "      <td>1435908.0</td>\n",
              "      <td>1007732.0</td>\n",
              "      <td>NaN</td>\n",
              "      <td>609114.0</td>\n",
              "      <td>2544.0</td>\n",
              "      <td>53497.0</td>\n",
              "      <td>55433.0</td>\n",
              "      <td>49081.0</td>\n",
              "      <td>37410.0</td>\n",
              "      <td>437127.0</td>\n",
              "      <td>175210.0</td>\n",
              "      <td>614881.0</td>\n",
              "      <td>215.253932</td>\n",
              "      <td>265.366278</td>\n",
              "      <td>206.212716</td>\n",
              "      <td>262.169895</td>\n",
              "    </tr>\n",
              "    <tr>\n",
              "      <th>3</th>\n",
              "      <td>1992_ARKANSAS</td>\n",
              "      <td>ARKANSAS</td>\n",
              "      <td>1992</td>\n",
              "      <td>NaN</td>\n",
              "      <td>1711959.0</td>\n",
              "      <td>178571.0</td>\n",
              "      <td>958785.0</td>\n",
              "      <td>574603.0</td>\n",
              "      <td>1743022.0</td>\n",
              "      <td>964323.0</td>\n",
              "      <td>483488.0</td>\n",
              "      <td>NaN</td>\n",
              "      <td>145212.0</td>\n",
              "      <td>808.0</td>\n",
              "      <td>33511.0</td>\n",
              "      <td>34632.0</td>\n",
              "      <td>36011.0</td>\n",
              "      <td>27651.0</td>\n",
              "      <td>281338.0</td>\n",
              "      <td>123113.0</td>\n",
              "      <td>405259.0</td>\n",
              "      <td>210.206028</td>\n",
              "      <td>256.312090</td>\n",
              "      <td>208.634458</td>\n",
              "      <td>264.619665</td>\n",
              "    </tr>\n",
              "    <tr>\n",
              "      <th>4</th>\n",
              "      <td>1992_CALIFORNIA</td>\n",
              "      <td>CALIFORNIA</td>\n",
              "      <td>1992</td>\n",
              "      <td>NaN</td>\n",
              "      <td>26260025.0</td>\n",
              "      <td>2072470.0</td>\n",
              "      <td>16546514.0</td>\n",
              "      <td>7641041.0</td>\n",
              "      <td>27138832.0</td>\n",
              "      <td>14358922.0</td>\n",
              "      <td>8520926.0</td>\n",
              "      <td>NaN</td>\n",
              "      <td>2044688.0</td>\n",
              "      <td>59067.0</td>\n",
              "      <td>431763.0</td>\n",
              "      <td>418418.0</td>\n",
              "      <td>363296.0</td>\n",
              "      <td>270675.0</td>\n",
              "      <td>3286034.0</td>\n",
              "      <td>1372011.0</td>\n",
              "      <td>4717112.0</td>\n",
              "      <td>208.398961</td>\n",
              "      <td>260.892247</td>\n",
              "      <td>196.764414</td>\n",
              "      <td>NaN</td>\n",
              "    </tr>\n",
              "  </tbody>\n",
              "</table>\n",
              "</div>"
            ],
            "text/plain": [
              "       PRIMARY_KEY       STATE  ...  AVG_READING_4_SCORE  AVG_READING_8_SCORE\n",
              "0     1992_ALABAMA     ALABAMA  ...           207.963517                  NaN\n",
              "1      1992_ALASKA      ALASKA  ...                  NaN           258.859712\n",
              "2     1992_ARIZONA     ARIZONA  ...           206.212716           262.169895\n",
              "3    1992_ARKANSAS    ARKANSAS  ...           208.634458           264.619665\n",
              "4  1992_CALIFORNIA  CALIFORNIA  ...           196.764414                  NaN\n",
              "\n",
              "[5 rows x 25 columns]"
            ]
          },
          "metadata": {
            "tags": []
          },
          "execution_count": 11
        }
      ]
    },
    {
      "cell_type": "code",
      "metadata": {
        "colab": {
          "base_uri": "https://localhost:8080/"
        },
        "id": "lg-iK7ev0Zhq",
        "outputId": "96f43d86-d0a1-4d7a-d271-81ec8ba8f51a"
      },
      "source": [
        "data.info()"
      ],
      "execution_count": null,
      "outputs": [
        {
          "output_type": "stream",
          "text": [
            "<class 'pandas.core.frame.DataFrame'>\n",
            "RangeIndex: 1492 entries, 0 to 1491\n",
            "Data columns (total 25 columns):\n",
            " #   Column                        Non-Null Count  Dtype  \n",
            "---  ------                        --------------  -----  \n",
            " 0   PRIMARY_KEY                   1492 non-null   object \n",
            " 1   STATE                         1492 non-null   object \n",
            " 2   YEAR                          1492 non-null   int64  \n",
            " 3   ENROLL                        1229 non-null   float64\n",
            " 4   TOTAL_REVENUE                 1280 non-null   float64\n",
            " 5   FEDERAL_REVENUE               1280 non-null   float64\n",
            " 6   STATE_REVENUE                 1280 non-null   float64\n",
            " 7   LOCAL_REVENUE                 1280 non-null   float64\n",
            " 8   TOTAL_EXPENDITURE             1280 non-null   float64\n",
            " 9   INSTRUCTION_EXPENDITURE       1280 non-null   float64\n",
            " 10  SUPPORT_SERVICES_EXPENDITURE  1280 non-null   float64\n",
            " 11  OTHER_EXPENDITURE             1229 non-null   float64\n",
            " 12  CAPITAL_OUTLAY_EXPENDITURE    1280 non-null   float64\n",
            " 13  GRADES_PK_G                   1319 non-null   float64\n",
            " 14  GRADES_KG_G                   1360 non-null   float64\n",
            " 15  GRADES_4_G                    1361 non-null   float64\n",
            " 16  GRADES_8_G                    1361 non-null   float64\n",
            " 17  GRADES_12_G                   1361 non-null   float64\n",
            " 18  GRADES_1_8_G                  1361 non-null   float64\n",
            " 19  GRADES_9_12_G                 1361 non-null   float64\n",
            " 20  GRADES_ALL_G                  1319 non-null   float64\n",
            " 21  AVG_MATH_4_SCORE              536 non-null    float64\n",
            " 22  AVG_MATH_8_SCORE              532 non-null    float64\n",
            " 23  AVG_READING_4_SCORE           533 non-null    float64\n",
            " 24  AVG_READING_8_SCORE           498 non-null    float64\n",
            "dtypes: float64(22), int64(1), object(2)\n",
            "memory usage: 291.5+ KB\n"
          ],
          "name": "stdout"
        }
      ]
    },
    {
      "cell_type": "code",
      "metadata": {
        "colab": {
          "base_uri": "https://localhost:8080/"
        },
        "id": "aRF4O8yB0jVE",
        "outputId": "075a96c0-db58-4196-c456-ef2558fccaa1"
      },
      "source": [
        "data.isnull().sum()*100/data.isnull().count()"
      ],
      "execution_count": null,
      "outputs": [
        {
          "output_type": "execute_result",
          "data": {
            "text/plain": [
              "PRIMARY_KEY                      0.000000\n",
              "STATE                            0.000000\n",
              "YEAR                             0.000000\n",
              "ENROLL                          17.627346\n",
              "TOTAL_REVENUE                   14.209115\n",
              "FEDERAL_REVENUE                 14.209115\n",
              "STATE_REVENUE                   14.209115\n",
              "LOCAL_REVENUE                   14.209115\n",
              "TOTAL_EXPENDITURE               14.209115\n",
              "INSTRUCTION_EXPENDITURE         14.209115\n",
              "SUPPORT_SERVICES_EXPENDITURE    14.209115\n",
              "OTHER_EXPENDITURE               17.627346\n",
              "CAPITAL_OUTLAY_EXPENDITURE      14.209115\n",
              "GRADES_PK_G                     11.595174\n",
              "GRADES_KG_G                      8.847185\n",
              "GRADES_4_G                       8.780161\n",
              "GRADES_8_G                       8.780161\n",
              "GRADES_12_G                      8.780161\n",
              "GRADES_1_8_G                     8.780161\n",
              "GRADES_9_12_G                    8.780161\n",
              "GRADES_ALL_G                    11.595174\n",
              "AVG_MATH_4_SCORE                64.075067\n",
              "AVG_MATH_8_SCORE                64.343164\n",
              "AVG_READING_4_SCORE             64.276139\n",
              "AVG_READING_8_SCORE             66.621984\n",
              "dtype: float64"
            ]
          },
          "metadata": {
            "tags": []
          },
          "execution_count": 13
        }
      ]
    },
    {
      "cell_type": "markdown",
      "metadata": {
        "id": "cf6w2DMa3rW-"
      },
      "source": [
        "Notice that the data has a time dimension (year). For this assignment, forget about time and treat all the observations as if they're from the same year. Choose a strategy to deal with the missing values for each variable. For which variables would filling in the missing values with some value make sense? For which might tossing out the records entirely make sense?"
      ]
    },
    {
      "cell_type": "code",
      "metadata": {
        "id": "JI4laXy51435"
      },
      "source": [
        "useducation =data.copy()\n",
        "cols=[\"ENROLL\", \"TOTAL_REVENUE\", \"FEDERAL_REVENUE\", \n",
        "             \"STATE_REVENUE\", \"LOCAL_REVENUE\", \"TOTAL_EXPENDITURE\", \n",
        "             \"INSTRUCTION_EXPENDITURE\", \"SUPPORT_SERVICES_EXPENDITURE\",\n",
        "             \"OTHER_EXPENDITURE\", \"CAPITAL_OUTLAY_EXPENDITURE\", \"GRADES_PK_G\", \n",
        "             \"GRADES_KG_G\", \"GRADES_4_G\", \"GRADES_8_G\", \"GRADES_12_G\", \"GRADES_1_8_G\", \n",
        "             \"GRADES_9_12_G\", \"GRADES_ALL_G\"]\n",
        "\n",
        "\n",
        "for col in cols:\n",
        "  useducation.loc[:,col]=useducation.loc[:,col].fillna(useducation.loc[:,col].mean())"
      ],
      "execution_count": null,
      "outputs": []
    },
    {
      "cell_type": "markdown",
      "metadata": {
        "id": "wQJcxCFh3xmN"
      },
      "source": [
        "Now, take into account the time factor. Replicate your second answer, but this time, fill in the missing values by using a statistic that is calculated within the year of the observation. For example, if you want to fill in a missing value for a variable with the mean of that variable, calculate the mean by using only the observations for that specific year."
      ]
    },
    {
      "cell_type": "code",
      "metadata": {
        "id": "RtjZFn-73zpC"
      },
      "source": [
        "useducation1=data.copy()\n",
        "\n",
        "years=useducation['YEAR']\n",
        "for col in cols:\n",
        "  for year in years:\n",
        "    useducation1.loc[useducation1['YEAR']==year,col]= useducation1.loc[useducation1['YEAR']==year,col].fillna(useducation1[useducation1['YEAR']==year][col].mean())"
      ],
      "execution_count": null,
      "outputs": []
    },
    {
      "cell_type": "markdown",
      "metadata": {
        "id": "knthFCED8Pc0"
      },
      "source": [
        "4. This time, fill in the missing values using interpolation (extrapolation)."
      ]
    },
    {
      "cell_type": "code",
      "metadata": {
        "id": "zv98ojGo4koP"
      },
      "source": [
        "useducation4=data.copy()\n",
        "\n",
        "for col in cols:\n",
        "  useducation4.loc[:,col]=useducation4.loc[:,col].interpolate()"
      ],
      "execution_count": null,
      "outputs": []
    },
    {
      "cell_type": "markdown",
      "metadata": {
        "id": "0OrQq6sXAJJ1"
      },
      "source": [
        "Compare your results for the second, third and the fourth questions. Do you find any meaningful differences?"
      ]
    },
    {
      "cell_type": "code",
      "metadata": {
        "colab": {
          "base_uri": "https://localhost:8080/"
        },
        "id": "K0w_efmqAJ5E",
        "outputId": "57958dbc-cc8f-4157-b00a-43eafbe2f89b"
      },
      "source": [
        "for col in cols:\n",
        "  print('Statistics for columns{}'.format(col))\n",
        "  print(pd.concat([useducation[col],useducation1[col],useducation4[col]],axis=1).describe())"
      ],
      "execution_count": null,
      "outputs": [
        {
          "output_type": "stream",
          "text": [
            "Statistics for columnsENROLL\n",
            "             ENROLL        ENROLL        ENROLL\n",
            "count  1.492000e+03  1.385000e+03  1.456000e+03\n",
            "mean   9.159308e+05  9.161654e+05  1.005984e+06\n",
            "std    9.667725e+05  1.003532e+06  1.009158e+06\n",
            "min    4.386600e+04  4.386600e+04  4.386600e+04\n",
            "25%    3.150940e+05  2.867590e+05  2.973995e+05\n",
            "50%    8.204140e+05  7.374010e+05  7.540845e+05\n",
            "75%    9.211780e+05  9.624880e+05  1.595024e+06\n",
            "max    6.307022e+06  6.307022e+06  6.307022e+06\n",
            "Statistics for columnsTOTAL_REVENUE\n",
            "       TOTAL_REVENUE  TOTAL_REVENUE  TOTAL_REVENUE\n",
            "count   1.492000e+03   1.441000e+03   1.492000e+03\n",
            "mean    9.092082e+06   9.084108e+06   1.111164e+07\n",
            "std     1.087818e+07   1.110204e+07   1.200155e+07\n",
            "min     4.656500e+05   4.656500e+05   4.656500e+05\n",
            "25%     2.546261e+06   2.425600e+06   2.546261e+06\n",
            "50%     6.359310e+06   5.778507e+06   6.351760e+06\n",
            "75%     9.276958e+06   1.116863e+07   1.803650e+07\n",
            "max     8.921726e+07   8.921726e+07   8.921726e+07\n",
            "Statistics for columnsFEDERAL_REVENUE\n",
            "       FEDERAL_REVENUE  FEDERAL_REVENUE  FEDERAL_REVENUE\n",
            "count     1.492000e+03     1.441000e+03     1.492000e+03\n",
            "mean      7.663723e+05     7.662749e+05     8.922691e+05\n",
            "std       1.060702e+06     1.085057e+06     1.106788e+06\n",
            "min       3.102000e+04     3.102000e+04     3.102000e+04\n",
            "25%       2.170200e+05     2.068530e+05     2.170200e+05\n",
            "50%       5.167410e+05     4.461800e+05     5.165190e+05\n",
            "75%       7.663723e+05     8.956420e+05     1.411794e+06\n",
            "max       9.990221e+06     9.990221e+06     9.990221e+06\n",
            "Statistics for columnsSTATE_REVENUE\n",
            "       STATE_REVENUE  STATE_REVENUE  STATE_REVENUE\n",
            "count   1.492000e+03   1.441000e+03   1.492000e+03\n",
            "mean    4.216553e+06   4.213597e+06   4.913351e+06\n",
            "std     5.133895e+06   5.237195e+06   5.423675e+06\n",
            "min     0.000000e+00   0.000000e+00   0.000000e+00\n",
            "25%     1.356434e+06   1.319582e+06   1.356434e+06\n",
            "50%     3.127639e+06   2.857497e+06   3.119414e+06\n",
            "75%     4.269811e+06   5.187230e+06   8.020633e+06\n",
            "max     5.090457e+07   5.090457e+07   5.090457e+07\n",
            "Statistics for columnsLOCAL_REVENUE\n",
            "       LOCAL_REVENUE  LOCAL_REVENUE  LOCAL_REVENUE\n",
            "count   1.492000e+03   1.441000e+03   1.492000e+03\n",
            "mean    4.109157e+06   4.104236e+06   5.306024e+06\n",
            "std     5.078230e+06   5.181475e+06   5.900909e+06\n",
            "min     2.209300e+04   2.209300e+04   2.209300e+04\n",
            "25%     9.447962e+05   8.747060e+05   9.447962e+05\n",
            "50%     2.697257e+06   2.398344e+06   2.650904e+06\n",
            "75%     4.109157e+06   4.995971e+06   8.584803e+06\n",
            "max     3.610526e+07   3.610526e+07   3.610526e+07\n",
            "Statistics for columnsTOTAL_EXPENDITURE\n",
            "       TOTAL_EXPENDITURE  TOTAL_EXPENDITURE  TOTAL_EXPENDITURE\n",
            "count       1.492000e+03       1.441000e+03       1.492000e+03\n",
            "mean        9.196681e+06       9.190557e+06       1.114374e+07\n",
            "std         1.109393e+07       1.132084e+07       1.212433e+07\n",
            "min         4.816650e+05       4.816650e+05       4.816650e+05\n",
            "25%         2.523968e+06       2.427316e+06       2.523968e+06\n",
            "50%         6.520224e+06       5.858385e+06       6.499891e+06\n",
            "75%         9.434922e+06       1.116970e+07       1.801704e+07\n",
            "max         8.532013e+07       8.532013e+07       8.532013e+07\n",
            "Statistics for columnsINSTRUCTION_EXPENDITURE\n",
            "       INSTRUCTION_EXPENDITURE  ...  INSTRUCTION_EXPENDITURE\n",
            "count             1.492000e+03  ...             1.492000e+03\n",
            "mean              4.762966e+06  ...             5.792260e+06\n",
            "std               5.828468e+06  ...             6.376549e+06\n",
            "min               2.655490e+05  ...             2.655490e+05\n",
            "25%               1.343611e+06  ...             1.343611e+06\n",
            "50%               3.358142e+06  ...             3.318778e+06\n",
            "75%               4.938820e+06  ...             9.130766e+06\n",
            "max               4.396452e+07  ...             4.396452e+07\n",
            "\n",
            "[8 rows x 3 columns]\n",
            "Statistics for columnsSUPPORT_SERVICES_EXPENDITURE\n",
            "       SUPPORT_SERVICES_EXPENDITURE  ...  SUPPORT_SERVICES_EXPENDITURE\n",
            "count                  1.492000e+03  ...                  1.492000e+03\n",
            "mean                   2.680331e+06  ...                  3.324275e+06\n",
            "std                    3.105812e+06  ...                  3.500830e+06\n",
            "min                    1.399630e+05  ...                  1.399630e+05\n",
            "25%                    7.673688e+05  ...                  7.673688e+05\n",
            "50%                    1.913844e+06  ...                  1.910412e+06\n",
            "75%                    2.795888e+06  ...                  5.435244e+06\n",
            "max                    2.605802e+07  ...                  2.605802e+07\n",
            "\n",
            "[8 rows x 3 columns]\n",
            "Statistics for columnsOTHER_EXPENDITURE\n",
            "       OTHER_EXPENDITURE  OTHER_EXPENDITURE  OTHER_EXPENDITURE\n",
            "count       1.492000e+03       1.385000e+03       1.456000e+03\n",
            "mean        4.292046e+05       4.286507e+05       5.004288e+05\n",
            "std         4.846832e+05       5.041013e+05       5.253843e+05\n",
            "min         1.154100e+04       1.154100e+04       1.154100e+04\n",
            "25%         1.354282e+05       1.199340e+05       1.279618e+05\n",
            "50%         3.672335e+05       3.070220e+05       3.415810e+05\n",
            "75%         4.568915e+05       5.223475e+05       8.490842e+05\n",
            "max         3.995951e+06       3.995951e+06       3.995951e+06\n",
            "Statistics for columnsCAPITAL_OUTLAY_EXPENDITURE\n",
            "       CAPITAL_OUTLAY_EXPENDITURE  ...  CAPITAL_OUTLAY_EXPENDITURE\n",
            "count                1.492000e+03  ...                1.492000e+03\n",
            "mean                 9.027693e+05  ...                1.033524e+06\n",
            "std                  1.229564e+06  ...                1.272901e+06\n",
            "min                  1.270800e+04  ...                1.270800e+04\n",
            "25%                  2.163398e+05  ...                2.163398e+05\n",
            "50%                  6.482175e+05  ...                6.436235e+05\n",
            "75%                  9.027693e+05  ...                1.717212e+06\n",
            "max                  1.022366e+07  ...                1.022366e+07\n",
            "\n",
            "[8 rows x 3 columns]\n",
            "Statistics for columnsGRADES_PK_G\n",
            "         GRADES_PK_G    GRADES_PK_G    GRADES_PK_G\n",
            "count    1492.000000    1390.000000    1492.000000\n",
            "mean    17601.614102   17672.581838   15926.059316\n",
            "std     28221.111094   29263.483252   28669.479212\n",
            "min         0.000000       0.000000       0.000000\n",
            "25%      2449.000000    2183.250000    1544.000000\n",
            "50%     10505.000000    9066.500000    5910.500000\n",
            "75%     19149.250000   22788.750000   19561.000000\n",
            "max    250911.000000  250911.000000  250911.000000\n",
            "Statistics for columnsGRADES_KG_G\n",
            "         GRADES_KG_G    GRADES_KG_G    GRADES_KG_G\n",
            "count    1492.000000    1390.000000    1492.000000\n",
            "mean    63746.761029   63810.167724   59021.465818\n",
            "std     76572.547833   79336.993597   78271.025323\n",
            "min       544.000000     544.000000     544.000000\n",
            "25%     14016.000000   11928.500000    9926.750000\n",
            "50%     48897.000000   42968.000000   38507.000000\n",
            "75%     70372.750000   72972.250000   70748.750000\n",
            "max    530531.000000  530531.000000  530531.000000\n",
            "Statistics for columnsGRADES_4_G\n",
            "          GRADES_4_G     GRADES_4_G     GRADES_4_G\n",
            "count    1492.000000    1390.000000    1492.000000\n",
            "mean    64538.927259   64590.152441   59797.646113\n",
            "std     76684.998585   79451.944548   78406.899202\n",
            "min       633.000000     633.000000     633.000000\n",
            "25%     15195.500000   14190.500000   10117.250000\n",
            "50%     49884.500000   44909.500000   38280.500000\n",
            "75%     71814.250000   75149.750000   72310.250000\n",
            "max    493415.000000  493415.000000  493415.000000\n",
            "Statistics for columnsGRADES_8_G\n",
            "          GRADES_8_G     GRADES_8_G     GRADES_8_G\n",
            "count    1492.000000    1390.000000    1492.000000\n",
            "mean    64271.057311   64331.744106   59511.380027\n",
            "std     75364.301721   78083.976028   77123.573668\n",
            "min       437.000000     437.000000     437.000000\n",
            "25%     15682.750000   13698.250000   10252.000000\n",
            "50%     49571.000000   44756.500000   38114.500000\n",
            "75%     72131.000000   75016.250000   72598.250000\n",
            "max    500143.000000  500143.000000  500143.000000\n",
            "Statistics for columnsGRADES_12_G\n",
            "         GRADES_12_G    GRADES_12_G    GRADES_12_G\n",
            "count    1492.000000    1390.000000    1492.000000\n",
            "mean    54268.924320   54418.075582   50207.239276\n",
            "std     64838.328605   67187.337112   66309.867155\n",
            "min       311.000000     311.000000     311.000000\n",
            "25%     13437.000000   11161.750000    8951.000000\n",
            "50%     39566.000000   37541.500000   33279.000000\n",
            "75%     64616.250000   67026.000000   64920.500000\n",
            "max    498403.000000  498403.000000  498403.000000\n",
            "Statistics for columnsGRADES_1_8_G\n",
            "       GRADES_1_8_G  GRADES_1_8_G  GRADES_1_8_G\n",
            "count  1.492000e+03  1.390000e+03  1.492000e+03\n",
            "mean   5.192140e+05  5.196200e+05  4.810102e+05\n",
            "std    6.147133e+05  6.368932e+05  6.286622e+05\n",
            "min    4.878000e+03  4.878000e+03  4.878000e+03\n",
            "25%    1.211522e+05  1.129712e+05  8.127325e+04\n",
            "50%    4.015865e+05  3.611705e+05  3.097340e+05\n",
            "75%    5.749118e+05  6.052242e+05  5.783400e+05\n",
            "max    3.929869e+06  3.929869e+06  3.929869e+06\n",
            "Statistics for columnsGRADES_9_12_G\n",
            "       GRADES_9_12_G  GRADES_9_12_G  GRADES_9_12_G\n",
            "count   1.492000e+03   1.390000e+03   1.492000e+03\n",
            "mean    2.470714e+05   2.474932e+05   2.286678e+05\n",
            "std     2.938773e+05   3.044943e+05   3.005815e+05\n",
            "min     1.808000e+03   1.808000e+03   1.808000e+03\n",
            "25%     5.919750e+04   5.270300e+04   3.950675e+04\n",
            "50%     1.817010e+05   1.706525e+05   1.472355e+05\n",
            "75%     2.825390e+05   2.888522e+05   2.843505e+05\n",
            "max     2.013687e+06   2.013687e+06   2.013687e+06\n",
            "Statistics for columnsGRADES_ALL_G\n",
            "       GRADES_ALL_G  GRADES_ALL_G  GRADES_ALL_G\n",
            "count  1.492000e+03  1.390000e+03  1.492000e+03\n",
            "mean   8.024415e+05  8.029178e+05  7.478782e+05\n",
            "std    9.126522e+05  9.456162e+05  9.291585e+05\n",
            "min    7.254000e+03  7.254000e+03  7.254000e+03\n",
            "25%    2.293578e+05  1.939785e+05  1.718665e+05\n",
            "50%    6.473260e+05  5.983920e+05  4.591248e+05\n",
            "75%    8.724220e+05  9.045562e+05  8.860948e+05\n",
            "max    5.944746e+06  5.944746e+06  5.944746e+06\n"
          ],
          "name": "stdout"
        }
      ]
    },
    {
      "cell_type": "markdown",
      "metadata": {
        "id": "BXZGOk6mBDvo"
      },
      "source": [
        ""
      ]
    }
  ]
}