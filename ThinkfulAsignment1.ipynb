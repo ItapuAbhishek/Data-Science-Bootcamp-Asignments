{
  "nbformat": 4,
  "nbformat_minor": 0,
  "metadata": {
    "colab": {
      "name": "ThinkfulAsignment1.ipynb",
      "provenance": [],
      "collapsed_sections": []
    },
    "kernelspec": {
      "name": "python3",
      "display_name": "Python 3"
    }
  },
  "cells": [
    {
      "cell_type": "markdown",
      "metadata": {
        "id": "Sr7CABJy3Zjn"
      },
      "source": [
        "In this assignment, you'll be working with the U.S. Education Dataset from Kaggle. The data gives detailed, state-level information on several facets of the state of education on an annual basis. To learn more about the data and the column descriptions, click the Kaggle link above.\n",
        "\n",
        "Access this data from the Thinkful database using the following credentials:\n",
        "\n",
        "postgres_user = 'dsbc_student'\n",
        "postgres_pw = '7*.8G9QH21'\n",
        "postgres_host = '142.93.121.174'\n",
        "postgres_port = '5432'\n",
        "postgres_db = 'useducation'\n",
        "\n",
        "\n",
        "\n",
        "To complete this assignment, submit a link to a Jupyter Notebook containing your solutions to the following tasks:\n"
      ]
    },
    {
      "cell_type": "code",
      "metadata": {
        "id": "wLfl7acvyUMh"
      },
      "source": [
        "import pandas as pd\n",
        "import numpy as np\n",
        "from sqlalchemy import create_engine\n",
        "from matplotlib import pyplot as plt"
      ],
      "execution_count": 7,
      "outputs": []
    },
    {
      "cell_type": "code",
      "metadata": {
        "id": "R3HrkfU7yoA_",
        "colab": {
          "base_uri": "https://localhost:8080/"
        },
        "outputId": "8aad76bb-22e2-40df-b66f-a87e329bdb2f"
      },
      "source": [
        "postgres_user = 'dsbc_student'\n",
        "postgres_pw = '7*.8G9QH21'\n",
        "postgres_host = '142.93.121.174'\n",
        "postgres_port = '5432'\n",
        "postgres_db = 'useducation'\n",
        "\n",
        "engine = create_engine('postgresql://{}:{}@{}:{}/{}'.format(\n",
        "    postgres_user, postgres_pw, postgres_host, postgres_port, postgres_db))\n",
        "\n",
        "engine.dispose()\n",
        "\n",
        "\n",
        "data=pd.read_sql('select * from useducation',con=engine)"
      ],
      "execution_count": 2,
      "outputs": [
        {
          "output_type": "stream",
          "text": [
            "/usr/local/lib/python3.7/dist-packages/psycopg2/__init__.py:144: UserWarning: The psycopg2 wheel package will be renamed from release 2.8; in order to keep installing from binary please use \"pip install psycopg2-binary\" instead. For details see: <http://initd.org/psycopg/docs/install.html#binary-install-from-pypi>.\n",
            "  \"\"\")\n"
          ],
          "name": "stderr"
        }
      ]
    },
    {
      "cell_type": "code",
      "metadata": {
        "colab": {
          "base_uri": "https://localhost:8080/"
        },
        "id": "6H7hnZ-pmCYz",
        "outputId": "a42d5b3a-cd2c-4c10-dfbe-9f9bb6c17943"
      },
      "source": [
        "data.info()"
      ],
      "execution_count": 3,
      "outputs": [
        {
          "output_type": "stream",
          "text": [
            "<class 'pandas.core.frame.DataFrame'>\n",
            "RangeIndex: 1492 entries, 0 to 1491\n",
            "Data columns (total 25 columns):\n",
            " #   Column                        Non-Null Count  Dtype  \n",
            "---  ------                        --------------  -----  \n",
            " 0   PRIMARY_KEY                   1492 non-null   object \n",
            " 1   STATE                         1492 non-null   object \n",
            " 2   YEAR                          1492 non-null   int64  \n",
            " 3   ENROLL                        1229 non-null   float64\n",
            " 4   TOTAL_REVENUE                 1280 non-null   float64\n",
            " 5   FEDERAL_REVENUE               1280 non-null   float64\n",
            " 6   STATE_REVENUE                 1280 non-null   float64\n",
            " 7   LOCAL_REVENUE                 1280 non-null   float64\n",
            " 8   TOTAL_EXPENDITURE             1280 non-null   float64\n",
            " 9   INSTRUCTION_EXPENDITURE       1280 non-null   float64\n",
            " 10  SUPPORT_SERVICES_EXPENDITURE  1280 non-null   float64\n",
            " 11  OTHER_EXPENDITURE             1229 non-null   float64\n",
            " 12  CAPITAL_OUTLAY_EXPENDITURE    1280 non-null   float64\n",
            " 13  GRADES_PK_G                   1319 non-null   float64\n",
            " 14  GRADES_KG_G                   1360 non-null   float64\n",
            " 15  GRADES_4_G                    1361 non-null   float64\n",
            " 16  GRADES_8_G                    1361 non-null   float64\n",
            " 17  GRADES_12_G                   1361 non-null   float64\n",
            " 18  GRADES_1_8_G                  1361 non-null   float64\n",
            " 19  GRADES_9_12_G                 1361 non-null   float64\n",
            " 20  GRADES_ALL_G                  1319 non-null   float64\n",
            " 21  AVG_MATH_4_SCORE              536 non-null    float64\n",
            " 22  AVG_MATH_8_SCORE              532 non-null    float64\n",
            " 23  AVG_READING_4_SCORE           533 non-null    float64\n",
            " 24  AVG_READING_8_SCORE           498 non-null    float64\n",
            "dtypes: float64(22), int64(1), object(2)\n",
            "memory usage: 291.5+ KB\n"
          ],
          "name": "stdout"
        }
      ]
    },
    {
      "cell_type": "code",
      "metadata": {
        "colab": {
          "base_uri": "https://localhost:8080/"
        },
        "id": "aRF4O8yB0jVE",
        "outputId": "56cb089e-1b4c-4655-c1d3-a29b2f2c3b50"
      },
      "source": [
        "data.isnull().sum()*100/data.isnull().count()"
      ],
      "execution_count": 4,
      "outputs": [
        {
          "output_type": "execute_result",
          "data": {
            "text/plain": [
              "PRIMARY_KEY                      0.000000\n",
              "STATE                            0.000000\n",
              "YEAR                             0.000000\n",
              "ENROLL                          17.627346\n",
              "TOTAL_REVENUE                   14.209115\n",
              "FEDERAL_REVENUE                 14.209115\n",
              "STATE_REVENUE                   14.209115\n",
              "LOCAL_REVENUE                   14.209115\n",
              "TOTAL_EXPENDITURE               14.209115\n",
              "INSTRUCTION_EXPENDITURE         14.209115\n",
              "SUPPORT_SERVICES_EXPENDITURE    14.209115\n",
              "OTHER_EXPENDITURE               17.627346\n",
              "CAPITAL_OUTLAY_EXPENDITURE      14.209115\n",
              "GRADES_PK_G                     11.595174\n",
              "GRADES_KG_G                      8.847185\n",
              "GRADES_4_G                       8.780161\n",
              "GRADES_8_G                       8.780161\n",
              "GRADES_12_G                      8.780161\n",
              "GRADES_1_8_G                     8.780161\n",
              "GRADES_9_12_G                    8.780161\n",
              "GRADES_ALL_G                    11.595174\n",
              "AVG_MATH_4_SCORE                64.075067\n",
              "AVG_MATH_8_SCORE                64.343164\n",
              "AVG_READING_4_SCORE             64.276139\n",
              "AVG_READING_8_SCORE             66.621984\n",
              "dtype: float64"
            ]
          },
          "metadata": {
            "tags": []
          },
          "execution_count": 4
        }
      ]
    },
    {
      "cell_type": "code",
      "metadata": {
        "id": "cut4YFufnxkQ"
      },
      "source": [
        "fill_list = [\"ENROLL\", \"TOTAL_REVENUE\", \"FEDERAL_REVENUE\",\n",
        "             \"STATE_REVENUE\", \"LOCAL_REVENUE\", \"TOTAL_EXPENDITURE\",\n",
        "             \"INSTRUCTION_EXPENDITURE\", \"SUPPORT_SERVICES_EXPENDITURE\",\n",
        "             \"OTHER_EXPENDITURE\", \"CAPITAL_OUTLAY_EXPENDITURE\", \"GRADES_PK_G\",\n",
        "             \"GRADES_KG_G\", \"GRADES_4_G\", \"GRADES_8_G\", \"GRADES_12_G\", \"GRADES_1_8_G\",\n",
        "             \"GRADES_9_12_G\", \"GRADES_ALL_G\"]\n",
        "\n",
        "states = data[\"STATE\"].unique()\n",
        "\n",
        "for state in states:\n",
        "    data.loc[data[\"STATE\"] == state, fill_list] = data.loc[data[\"STATE\"] == state, fill_list].interpolate()\n",
        "\n",
        "# we drop the null values after interpolation\n",
        "data.dropna(inplace=True)"
      ],
      "execution_count": 6,
      "outputs": []
    },
    {
      "cell_type": "markdown",
      "metadata": {
        "id": "BXZGOk6mBDvo"
      },
      "source": [
        "Consider the two variables: TOTAL_REVENUE and TOTAL_EXPENDITURE. Do these variables have outlier values?"
      ]
    },
    {
      "cell_type": "code",
      "metadata": {
        "colab": {
          "base_uri": "https://localhost:8080/",
          "height": 353
        },
        "id": "zOuohZtUoTM2",
        "outputId": "408ca888-8d6a-436a-886c-d1b849e1c0e0"
      },
      "source": [
        "#using visualization techniques boxplot\n",
        "\n",
        "plt.figure(figsize=(15,5))\n",
        "plt.subplot(1,2,1)\n",
        "plt.boxplot(data['TOTAL_REVENUE'],whis=5)\n",
        "plt.title('total revenue')\n",
        "\n",
        "plt.subplot(1,2,2)\n",
        "plt.boxplot(data['TOTAL_EXPENDITURE'],whis=5)\n",
        "plt.title('total expenditure')"
      ],
      "execution_count": 10,
      "outputs": [
        {
          "output_type": "execute_result",
          "data": {
            "text/plain": [
              "Text(0.5, 1.0, 'total expenditure')"
            ]
          },
          "metadata": {
            "tags": []
          },
          "execution_count": 10
        },
        {
          "output_type": "display_data",
          "data": {
            "image/png": "[encoded data removed]",
            "text/plain": [
              "<Figure size 1080x360 with 2 Axes>"
            ]
          },
          "metadata": {
            "tags": [],
            "needs_background": "light"
          }
        }
      ]
    },
    {
      "cell_type": "markdown",
      "metadata": {
        "id": "iphYZ298poUm"
      },
      "source": [
        "If you detect outliers in the TOTAL_REVENUE and TOTAL_EXPENDITURE variables, apply the techniques you learned in this checkpoint to eliminate them and validate that there are no outlier values after you handled them."
      ]
    },
    {
      "cell_type": "code",
      "metadata": {
        "id": "7lGRyjeCpo7S"
      },
      "source": [
        "#winsorization technique\n",
        "\n",
        "from scipy.stats.mstats import winsorize\n",
        "\n",
        "winsorized_revenue=winsorize(data['TOTAL_REVENUE'],(0,0.10))\n",
        "winsorized_expenditure=winsorize(data['TOTAL_EXPENDITURE'],(0,0.10))\n",
        "\n"
      ],
      "execution_count": 11,
      "outputs": []
    },
    {
      "cell_type": "code",
      "metadata": {
        "colab": {
          "base_uri": "https://localhost:8080/",
          "height": 353
        },
        "id": "bE9VNF3XqQWa",
        "outputId": "40f791f2-6cec-4b9c-80e5-0ed20f3b551d"
      },
      "source": [
        "plt.figure(figsize=(15,5))\n",
        "\n",
        "plt.subplot(1,2,1)\n",
        "plt.boxplot(winsorized_revenue,whis=5)\n",
        "plt.title('winsorized_revenue')\n",
        "\n",
        "plt.subplot(1,2,2)\n",
        "plt.boxplot(winsorized_revenue,whis=5)\n",
        "plt.title('winsorized_expenditure')"
      ],
      "execution_count": 12,
      "outputs": [
        {
          "output_type": "execute_result",
          "data": {
            "text/plain": [
              "Text(0.5, 1.0, 'winsorized_expenditure')"
            ]
          },
          "metadata": {
            "tags": []
          },
          "execution_count": 12
        },
        {
          "output_type": "display_data",
          "data": {
            "image/png": "[encoded data removed]",
            "text/plain": [
              "<Figure size 1080x360 with 2 Axes>"
            ]
          },
          "metadata": {
            "tags": [],
            "needs_background": "light"
          }
        }
      ]
    },
    {
      "cell_type": "markdown",
      "metadata": {
        "id": "MzRfKhqGqxtC"
      },
      "source": [
        "Create another variable by subtracting the original TOTAL_EXPENDITURE from TOTAL_REVENUE (before you eliminated the outliers). You can think of it as a kind of budget deficit in education. Do you find any outlier values in this new variable? If so, eliminate them using the technique that think is most suitable."
      ]
    },
    {
      "cell_type": "code",
      "metadata": {
        "colab": {
          "base_uri": "https://localhost:8080/",
          "height": 298
        },
        "id": "dOZUNsZeqzgk",
        "outputId": "9bded1e3-ffa1-4973-f561-b646b77321ed"
      },
      "source": [
        "budget_deficit= data['TOTAL_REVENUE'] - data['TOTAL_EXPENDITURE']\n",
        "\n",
        "#detecting outliers\n",
        "plt.boxplot(budget_deficit,whis=5)\n",
        "plt.title('budget_deficit')"
      ],
      "execution_count": 21,
      "outputs": [
        {
          "output_type": "execute_result",
          "data": {
            "text/plain": [
              "Text(0.5, 1.0, 'budget_deficit')"
            ]
          },
          "metadata": {
            "tags": []
          },
          "execution_count": 21
        },
        {
          "output_type": "display_data",
          "data": {
            "image/png": "[encoded data removed]",
            "text/plain": [
              "<Figure size 432x288 with 1 Axes>"
            ]
          },
          "metadata": {
            "tags": [],
            "needs_background": "light"
          }
        }
      ]
    },
    {
      "cell_type": "code",
      "metadata": {
        "colab": {
          "base_uri": "https://localhost:8080/",
          "height": 298
        },
        "id": "11UMCd1luTzw",
        "outputId": "469444d6-9624-4927-9f40-c1b578dfb30b"
      },
      "source": [
        "#using winsorization method to deal\n",
        "\n",
        "winsorized_budget_deficit=winsorize(budget_deficit,(0.05,0.05))\n",
        "plt.boxplot(winsorized_budget_deficit,whis=5)\n",
        "plt.title('winsorized_budget_deficit')"
      ],
      "execution_count": 23,
      "outputs": [
        {
          "output_type": "execute_result",
          "data": {
            "text/plain": [
              "Text(0.5, 1.0, 'winsorized_budget_deficit')"
            ]
          },
          "metadata": {
            "tags": []
          },
          "execution_count": 23
        },
        {
          "output_type": "display_data",
          "data": {
            "image/png": "[encoded data removed]",
            "text/plain": [
              "<Figure size 432x288 with 1 Axes>"
            ]
          },
          "metadata": {
            "tags": [],
            "needs_background": "light"
          }
        }
      ]
    },
    {
      "cell_type": "markdown",
      "metadata": {
        "id": "kdlnxU3svWce"
      },
      "source": [
        "Now create another variable by subtracting the TOTAL_EXPENDITURE from TOTAL_REVENUE. This time, use the outlier eliminated versions of TOTAL_EXPENDITURE from TOTAL_REVENUE. In this newly created variable, can you find any outliers? If so, eliminate them."
      ]
    },
    {
      "cell_type": "code",
      "metadata": {
        "colab": {
          "base_uri": "https://localhost:8080/",
          "height": 298
        },
        "id": "74T-3eZkvOzB",
        "outputId": "5cc62a2d-c146-42a4-8816-d00b2c7f6eed"
      },
      "source": [
        "budget_deficit1=winsorized_revenue - winsorized_expenditure\n",
        "\n",
        "plt.boxplot(budget_deficit1,whis=5)\n",
        "plt.title('budget_deicit')"
      ],
      "execution_count": 24,
      "outputs": [
        {
          "output_type": "execute_result",
          "data": {
            "text/plain": [
              "Text(0.5, 1.0, 'budget_deicit')"
            ]
          },
          "metadata": {
            "tags": []
          },
          "execution_count": 24
        },
        {
          "output_type": "display_data",
          "data": {
            "image/png": "[encoded data removed]",
            "text/plain": [
              "<Figure size 432x288 with 1 Axes>"
            ]
          },
          "metadata": {
            "tags": [],
            "needs_background": "light"
          }
        }
      ]
    },
    {
      "cell_type": "code",
      "metadata": {
        "colab": {
          "base_uri": "https://localhost:8080/",
          "height": 298
        },
        "id": "GnZRYAyNw0Mx",
        "outputId": "0b65f8f3-03cf-42cb-9729-95c29dcbeca7"
      },
      "source": [
        "winsorized_budget_deficit1=winsorize(budget_deficit1,(0.05,0.05))\n",
        "plt.boxplot(winsorized_budget_deficit1,whis=5)\n",
        "plt.title('winsorized_budget_deficit1')"
      ],
      "execution_count": 25,
      "outputs": [
        {
          "output_type": "execute_result",
          "data": {
            "text/plain": [
              "Text(0.5, 1.0, 'winsorized_budget_deficit1')"
            ]
          },
          "metadata": {
            "tags": []
          },
          "execution_count": 25
        },
        {
          "output_type": "display_data",
          "data": {
            "image/png": "[encoded data removed]",
            "text/plain": [
              "<Figure size 432x288 with 1 Axes>"
            ]
          },
          "metadata": {
            "tags": [],
            "needs_background": "light"
          }
        }
      ]
    },
    {
      "cell_type": "markdown",
      "metadata": {
        "id": "9wNzpxFjxPiK"
      },
      "source": [
        "Compare some basic descriptive statistics of the budget variables you end up with in the third and the fourth questions. Do you see any differences?"
      ]
    },
    {
      "cell_type": "code",
      "metadata": {
        "colab": {
          "base_uri": "https://localhost:8080/",
          "height": 297
        },
        "id": "3nN30097xQQr",
        "outputId": "e8a96dd6-590c-435e-90b8-f13d3babbd3a"
      },
      "source": [
        "pd.DataFrame({'original_budget_deficit':budget_deficit,'winsorized_budget_deficit1':winsorized_budget_deficit,'winsorized_budget_deficit2':winsorized_budget_deficit1}).describe()"
      ],
      "execution_count": 26,
      "outputs": [
        {
          "output_type": "execute_result",
          "data": {
            "text/html": [
              "<div>\n",
              "<style scoped>\n",
              "    .dataframe tbody tr th:only-of-type {\n",
              "        vertical-align: middle;\n",
              "    }\n",
              "\n",
              "    .dataframe tbody tr th {\n",
              "        vertical-align: top;\n",
              "    }\n",
              "\n",
              "    .dataframe thead th {\n",
              "        text-align: right;\n",
              "    }\n",
              "</style>\n",
              "<table border=\"1\" class=\"dataframe\">\n",
              "  <thead>\n",
              "    <tr style=\"text-align: right;\">\n",
              "      <th></th>\n",
              "      <th>original_budget_deficit</th>\n",
              "      <th>winsorized_budget_deficit1</th>\n",
              "      <th>winsorized_budget_deficit2</th>\n",
              "    </tr>\n",
              "  </thead>\n",
              "  <tbody>\n",
              "    <tr>\n",
              "      <th>count</th>\n",
              "      <td>4.660000e+02</td>\n",
              "      <td>466.000000</td>\n",
              "      <td>466.000000</td>\n",
              "    </tr>\n",
              "    <tr>\n",
              "      <th>mean</th>\n",
              "      <td>-8.094882e+04</td>\n",
              "      <td>-58733.012876</td>\n",
              "      <td>42601.083691</td>\n",
              "    </tr>\n",
              "    <tr>\n",
              "      <th>std</th>\n",
              "      <td>6.144222e+05</td>\n",
              "      <td>341300.816505</td>\n",
              "      <td>287393.469948</td>\n",
              "    </tr>\n",
              "    <tr>\n",
              "      <th>min</th>\n",
              "      <td>-5.487742e+06</td>\n",
              "      <td>-913765.000000</td>\n",
              "      <td>-526142.000000</td>\n",
              "    </tr>\n",
              "    <tr>\n",
              "      <th>25%</th>\n",
              "      <td>-1.965748e+05</td>\n",
              "      <td>-196574.750000</td>\n",
              "      <td>-123882.250000</td>\n",
              "    </tr>\n",
              "    <tr>\n",
              "      <th>50%</th>\n",
              "      <td>-8.872500e+03</td>\n",
              "      <td>-8872.500000</td>\n",
              "      <td>8133.500000</td>\n",
              "    </tr>\n",
              "    <tr>\n",
              "      <th>75%</th>\n",
              "      <td>1.013948e+05</td>\n",
              "      <td>101394.750000</td>\n",
              "      <td>180287.250000</td>\n",
              "    </tr>\n",
              "    <tr>\n",
              "      <th>max</th>\n",
              "      <td>3.897129e+06</td>\n",
              "      <td>560511.000000</td>\n",
              "      <td>526078.000000</td>\n",
              "    </tr>\n",
              "  </tbody>\n",
              "</table>\n",
              "</div>"
            ],
            "text/plain": [
              "       original_budget_deficit  ...  winsorized_budget_deficit2\n",
              "count             4.660000e+02  ...                  466.000000\n",
              "mean             -8.094882e+04  ...                42601.083691\n",
              "std               6.144222e+05  ...               287393.469948\n",
              "min              -5.487742e+06  ...              -526142.000000\n",
              "25%              -1.965748e+05  ...              -123882.250000\n",
              "50%              -8.872500e+03  ...                 8133.500000\n",
              "75%               1.013948e+05  ...               180287.250000\n",
              "max               3.897129e+06  ...               526078.000000\n",
              "\n",
              "[8 rows x 3 columns]"
            ]
          },
          "metadata": {
            "tags": []
          },
          "execution_count": 26
        }
      ]
    }
  ]
}